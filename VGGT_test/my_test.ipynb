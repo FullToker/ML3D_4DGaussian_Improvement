{
 "cells": [
  {
   "cell_type": "markdown",
   "metadata": {},
   "source": [
    "# VGGT test for multipleView video\n"
   ]
  },
  {
   "cell_type": "markdown",
   "metadata": {},
   "source": [
    "## Load the images"
   ]
  },
  {
   "cell_type": "code",
   "execution_count": 1,
   "metadata": {},
   "outputs": [
    {
     "name": "stdout",
     "output_type": "stream",
     "text": [
      "\n",
      "Found 9 Images:\n",
      "../collected_frames/cam8_frame_00001.jpg\n",
      "../collected_frames/cam6_frame_00001.jpg\n",
      "../collected_frames/cam5_frame_00001.jpg\n",
      "../collected_frames/cam7_frame_00001.jpg\n",
      "../collected_frames/cam1_frame_00001.jpg\n",
      "../collected_frames/cam9_frame_00001.jpg\n",
      "../collected_frames/cam2_frame_00001.jpg\n",
      "../collected_frames/cam4_frame_00001.jpg\n",
      "../collected_frames/cam3_frame_00001.jpg\n"
     ]
    }
   ],
   "source": [
    "import os\n",
    "def get_image_files(folder_path, extensions=['.jpg', '.jpeg', '.png', '.gif', '.bmp']):\n",
    "    file_paths = []\n",
    "    for root, dirs, files in os.walk(folder_path):\n",
    "        for file in files:\n",
    "            if any(file.lower().endswith(ext) for ext in extensions):\n",
    "                relative_path = os.path.relpath(os.path.join(root, file), folder_path)\n",
    "                full_path = os.path.join(folder_path, relative_path)\n",
    "                file_paths.append(full_path)\n",
    "    return file_paths\n",
    "images_folder = \"../collected_frames/\"\n",
    "\n",
    "if os.path.exists(images_folder):\n",
    "        image_files = get_image_files(images_folder)\n",
    "        print(f\"\\nFound {len(image_files)} Images:\")\n",
    "        #print(image_files)\n",
    "        for img_path in image_files:\n",
    "            print(img_path)\n",
    "            \n",
    "else:\n",
    "        print(f\"Folder {images_folder} doesn't exist\")"
   ]
  },
  {
   "cell_type": "markdown",
   "metadata": {},
   "source": [
    "## using the VGGT model"
   ]
  },
  {
   "cell_type": "code",
   "execution_count": 2,
   "metadata": {},
   "outputs": [
    {
     "name": "stderr",
     "output_type": "stream",
     "text": [
      "/home/ubuntu/miniconda3/envs/vggt/lib/python3.10/site-packages/requests/__init__.py:86: RequestsDependencyWarning: Unable to find acceptable character detection dependency (chardet or charset_normalizer).\n",
      "  warnings.warn(\n"
     ]
    },
    {
     "name": "stdout",
     "output_type": "stream",
     "text": [
      "cuda\n"
     ]
    }
   ],
   "source": [
    "import torch\n",
    "from vggt.models.vggt import VGGT\n",
    "from vggt.utils.load_fn import load_and_preprocess_images\n",
    "\n",
    "device = \"cuda\" if torch.cuda.is_available() else \"cpu\"\n",
    "print(device)\n",
    "dtype = torch.float16\n"
   ]
  },
  {
   "cell_type": "code",
   "execution_count": 3,
   "metadata": {},
   "outputs": [],
   "source": [
    "model = VGGT.from_pretrained(\"facebook/VGGT-1B\").to(device) \n",
    "images = load_and_preprocess_images(image_files).to(device)\n",
    "\n",
    "with torch.no_grad():\n",
    "    with torch.cuda.amp.autocast(dtype=dtype):\n",
    "        # Predict attributes including cameras, depth maps, and point maps.\n",
    "        predictions = model(images)"
   ]
  }
 ],
 "metadata": {
  "kernelspec": {
   "display_name": "vggt",
   "language": "python",
   "name": "python3"
  },
  "language_info": {
   "codemirror_mode": {
    "name": "ipython",
    "version": 3
   },
   "file_extension": ".py",
   "mimetype": "text/x-python",
   "name": "python",
   "nbconvert_exporter": "python",
   "pygments_lexer": "ipython3",
   "version": "3.10.18"
  }
 },
 "nbformat": 4,
 "nbformat_minor": 2
}
